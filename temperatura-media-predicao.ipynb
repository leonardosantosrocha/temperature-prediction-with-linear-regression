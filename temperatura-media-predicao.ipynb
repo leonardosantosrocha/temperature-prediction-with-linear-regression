{
  "nbformat": 4,
  "nbformat_minor": 0,
  "metadata": {
    "colab": {
      "provenance": []
    },
    "kernelspec": {
      "name": "python3",
      "display_name": "Python 3"
    },
    "language_info": {
      "name": "python"
    }
  },
  "cells": [
    {
      "cell_type": "markdown",
      "source": [
        "<h3>Objetivo: Consumir dados meteorológicos via API, preparar os dados, treinar um modelo e prever quais serão as próximas temperaturas médias.</h3>\n",
        "\n",
        "<p>Atenção</p>\n",
        "\n",
        "<p>1. Todos os dados apresentados na predição foram consumidos via API Open-Meteo que pode ser acessada nas referências do projeto.</p>\n",
        "\n",
        "<p>2. Esse foi o meu primeiro projeto de predição de dados, sendo assim, caso encontre algum ponto de melhoria, por favor, não esqueça de sinalizar.</p>\n",
        "\n",
        "<p>Referências utilizadas para desenvolvimento da análise</p>\n",
        "\n",
        "<a style=\"color:lightgrey\" href=\"https://pandas.pydata.org/docs/reference/general_functions.html\">1. Tratando dados com pandas</a>\n",
        "\n",
        "<a style=\"color:lightgrey\" href=\"https://matplotlib.org/stable/gallery/lines_bars_and_markers/index.html\">2. Visualizando dados com matplolib</a>\n",
        "\n",
        "<a style=\"color:lightgrey\" href=\"https://open-meteo.com/en/docs\">3. API Open-mateo</a>\n",
        "\n",
        "<p>Documentação dos atributos, datatypes, descrição e exemplo dos dados presentes na base de dados</p>\n",
        "<table>\n",
        "      <tr>\n",
        "          <td>atributo</td>\n",
        "          <td>tipo de dado</td>\n",
        "          <td>descrição</td>\n",
        "          <td>exemplo</td>\n",
        "      </tr>\n",
        "      <tr>\n",
        "          <td>weathercode</td>\n",
        "          <td>int</td>\n",
        "          <td>a condição climática mais severa em um determinado dia</td>\n",
        "          <td>63</td>\n",
        "      </tr>\n",
        "      <tr>\n",
        "          <td>temperature_2m_max</td>\n",
        "          <td>float</td>\n",
        "          <td>temperatura diária máxima do ar a 2 metros acima do solo</td>\n",
        "          <td>25.4</td>\n",
        "      </tr>\n",
        "      <tr>\n",
        "          <td>temperature_2m_min</td>\n",
        "          <td>float</td>\n",
        "          <td>temperatura diária mínima do ar a 2 metros acima do solo</td>\n",
        "          <td>19.0</td>\n",
        "      </tr>\n",
        "      <tr>\n",
        "          <td>temperature_2m_mean</td>\n",
        "          <td>float</td>\n",
        "          <td>temperatura diária média do ar a 2 metros acima do solo</td>\n",
        "          <td>21.7</td>\n",
        "      </tr>\n",
        "      <tr>\n",
        "          <td>apparent_temperature_max</td>\n",
        "          <td>float</td>\n",
        "          <td>temperatura máxima aparente diária</td>\n",
        "          <td>31.8</td>\n",
        "      </tr>\n",
        "      <tr>\n",
        "          <td>apparent_temperature_min</td>\n",
        "          <td>float</td>\n",
        "          <td>temperatura mínima aparente diária</td>\n",
        "          <td>21.5</td>\n",
        "      </tr>\n",
        "      <tr>\n",
        "          <td>apparent_temperature_mean</td>\n",
        "          <td>float</td>\n",
        "          <td>temperatura média aparente diária</td>\n",
        "          <td>24.8</td>\n",
        "      </tr>\n",
        "      <tr>\n",
        "          <td>sunrise</td>\n",
        "          <td>object</td>\n",
        "          <td>nascer do sol</td>\n",
        "          <td>2023-01-01T05:22</td>\n",
        "      </tr>\n",
        "      <tr>\n",
        "          <td>sunset</td>\n",
        "          <td>object</td>\n",
        "          <td>por do sol</td>\n",
        "          <td>2023-01-01T18:58</td>\n",
        "      </tr>\n",
        "      <tr>\n",
        "          <td>shortwave_radiation_sum</td>\n",
        "          <td>float</td>\n",
        "          <td>a soma da radiação solar em um determinado dia em megajoules</td>\n",
        "          <td>22.54</td>\n",
        "      </tr>\n",
        "      <tr>\n",
        "          <td>precipitation_sum</td>\n",
        "          <td>float</td>\n",
        "          <td>soma da precipitação diária (incluindo chuva, aguaceiros e queda de neve)</td>\n",
        "          <td>8.2</td>\n",
        "      </tr>\n",
        "      <tr>\n",
        "          <td>rain_sum</td>\n",
        "          <td>float</td>\n",
        "          <td>soma da chuva diária</td>\n",
        "          <td>8.2</td>\n",
        "      </tr>\n",
        "      <tr>\n",
        "          <td>snowfall_sum</td>\n",
        "          <td>float</td>\n",
        "          <td>soma da neve diária</td>\n",
        "          <td>0.0</td>\n",
        "      </tr>\n",
        "      <tr>\n",
        "          <td>precipitation_hours</td>\n",
        "          <td>float</td>\n",
        "          <td>horas de precipitação</td>\n",
        "          <td>10.0</td>\n",
        "      </tr>\n",
        "      <tr>\n",
        "          <td>windspeed_10m_max</td>\n",
        "          <td>float</td>\n",
        "          <td>velocidade máxima dos ventos em um dia</td>\n",
        "          <td>10.5</td>\n",
        "      </tr>\n",
        "      <tr>\n",
        "          <td>windgusts_10m_max</td>\n",
        "          <td>float</td>\n",
        "          <td>velocidade máxima das rajadas em um dia</td>\n",
        "          <td>27.4</td>\n",
        "      </tr>\n",
        "      <tr>\n",
        "          <td>winddirection_10m_dominant</td>\n",
        "          <td>int</td>\n",
        "          <td>direção dominante do vento</td>\n",
        "          <td>95</td>\n",
        "      </tr>\n",
        "      <tr>\n",
        "          <td>et0_fao_evapotranspiration</td>\n",
        "          <td>float</td>\n",
        "          <td>soma diária de ET₀ Evapotranspiração de referência de um gramado bem regado</td>\n",
        "          <td>4.18</td>\n",
        "      </tr>\n",
        "</table>"
      ],
      "metadata": {
        "id": "PEY3pOy0pv0-"
      }
    },
    {
      "cell_type": "markdown",
      "source": [
        "<p>Importando as bibliotecas para consumo via API, análise, tratamento, predição e visualização de dados</p>"
      ],
      "metadata": {
        "id": "45RWDelCxNyr"
      }
    },
    {
      "cell_type": "code",
      "execution_count": 33,
      "metadata": {
        "id": "hy-LQlOUHVQ7"
      },
      "outputs": [],
      "source": [
        "import requests\n",
        "import numpy as np\n",
        "import pandas as pd\n",
        "import statsmodels.formula.api as sm\n",
        "import matplotlib.pyplot as plt"
      ]
    },
    {
      "cell_type": "markdown",
      "source": [
        "<p>Utilizando o módulo requests para consultar os dados via API</p>"
      ],
      "metadata": {
        "id": "wkLH2p5Wxk8m"
      }
    },
    {
      "cell_type": "code",
      "source": [
        "response = requests.get(\"https://archive-api.open-meteo.com/v1/archive?latitude=-23.55&longitude=-46.64&start_date=2022-01-01&end_date=2022-12-31&daily=weathercode,temperature_2m_max,temperature_2m_min,temperature_2m_mean,apparent_temperature_max,apparent_temperature_min,apparent_temperature_mean,sunrise,sunset,shortwave_radiation_sum,precipitation_sum,rain_sum,snowfall_sum,precipitation_hours,windspeed_10m_max,windgusts_10m_max,winddirection_10m_dominant,et0_fao_evapotranspiration&timezone=America%2FSao_Paulo\")\n",
        "response = response.text"
      ],
      "metadata": {
        "id": "U-rV5gf_H0fh"
      },
      "execution_count": 34,
      "outputs": []
    },
    {
      "cell_type": "markdown",
      "source": [
        "<p>Realizando a leitura dos dados com o método read_json e visualizando as colunas da base de dados</p>"
      ],
      "metadata": {
        "id": "MdiLz2LNxuO7"
      }
    },
    {
      "cell_type": "code",
      "source": [
        "source = pd.read_json(response)\n",
        "source.index"
      ],
      "metadata": {
        "colab": {
          "base_uri": "https://localhost:8080/"
        },
        "id": "rJoB8T1CIIWB",
        "outputId": "fd1d5682-79be-45dc-b8bd-335c5358d89d"
      },
      "execution_count": 35,
      "outputs": [
        {
          "output_type": "execute_result",
          "data": {
            "text/plain": [
              "Index(['time', 'weathercode', 'temperature_2m_max', 'temperature_2m_min',\n",
              "       'temperature_2m_mean', 'apparent_temperature_max',\n",
              "       'apparent_temperature_min', 'apparent_temperature_mean', 'sunrise',\n",
              "       'sunset', 'shortwave_radiation_sum', 'precipitation_sum', 'rain_sum',\n",
              "       'snowfall_sum', 'precipitation_hours', 'windspeed_10m_max',\n",
              "       'windgusts_10m_max', 'winddirection_10m_dominant',\n",
              "       'et0_fao_evapotranspiration'],\n",
              "      dtype='object')"
            ]
          },
          "metadata": {},
          "execution_count": 35
        }
      ]
    },
    {
      "cell_type": "markdown",
      "source": [
        "<p>Separação das colunas em series que irão compor o dataframe</p>"
      ],
      "metadata": {
        "id": "41HwJqoLx5Ig"
      }
    },
    {
      "cell_type": "code",
      "source": [
        "for i in range(len(source['daily'])):\n",
        "  if i == 0:\n",
        "    time = pd.Series(source['daily'][i])\n",
        "  elif i == 1:\n",
        "    weathercode = pd.Series(source['daily'][i])\n",
        "  elif i == 2:\n",
        "    temperature_2m_max = pd.Series(source['daily'][i])\n",
        "  elif i == 3:\n",
        "    temperature_2m_min = pd.Series(source['daily'][i])\n",
        "  elif i == 4:\n",
        "    temperature_2m_mean = pd.Series(source['daily'][i])\n",
        "  elif i == 5:\n",
        "    apparent_temperature_max = pd.Series(source['daily'][i])\n",
        "  elif i == 6:\n",
        "    apparent_temperature_min = pd.Series(source['daily'][i])\n",
        "  elif i == 7:\n",
        "    apparent_temperature_mean = pd.Series(source['daily'][i])\n",
        "  elif i == 8:\n",
        "    sunrise = pd.Series(source['daily'][i])\n",
        "  elif i == 9:\n",
        "    sunset = pd.Series(source['daily'][i])\n",
        "  elif i == 10:\n",
        "    shortwave_radiation_sum = pd.Series(source['daily'][i])\n",
        "  elif i == 11:\n",
        "    precipitation_sum = pd.Series(source['daily'][i])\n",
        "  elif i == 12:\n",
        "    rain_sum = pd.Series(source['daily'][i])\n",
        "  elif i == 13:\n",
        "    snowfall_sum = pd.Series(source['daily'][i])\n",
        "  elif i == 14:\n",
        "    precipitation_hours = pd.Series(source['daily'][i])\n",
        "  elif i == 15:\n",
        "    windspeed_10m_max = pd.Series(source['daily'][i])\n",
        "  elif i == 16:\n",
        "    windgusts_10m_max = pd.Series(source['daily'][i])\n",
        "  elif i == 17:\n",
        "    winddirection_10m_dominant = pd.Series(source['daily'][i])\n",
        "  elif i == 18:\n",
        "    et0_fao_evapotranspiration = pd.Series(source['daily'][i])\n",
        "  else:\n",
        "    pass"
      ],
      "metadata": {
        "id": "dEl5T6j0R9jV"
      },
      "execution_count": 36,
      "outputs": []
    },
    {
      "cell_type": "markdown",
      "source": [
        "<p>Concatenação das series para construção do dataframe</p>"
      ],
      "metadata": {
        "id": "4PVy0nRhubXB"
      }
    },
    {
      "cell_type": "code",
      "source": [
        "data = pd.concat({'time': time,\n",
        "              'weathercode': weathercode,\n",
        "              'temperature_2m_max': temperature_2m_max,\n",
        "              'temperature_2m_min': temperature_2m_min,\n",
        "              'temperature_2m_mean': temperature_2m_mean,\n",
        "              'apparent_temperature_max': apparent_temperature_max,\n",
        "              'apparent_temperature_min': apparent_temperature_min,\n",
        "              'apparent_temperature_mean': apparent_temperature_mean,\n",
        "              'sunrise': sunrise,\n",
        "              'sunset': sunset,\n",
        "              'shortwave_radiation_sum': shortwave_radiation_sum,\n",
        "              'precipitation_sum': precipitation_sum,\n",
        "              'rain_sum': rain_sum,\n",
        "              'snowfall_sum': snowfall_sum,\n",
        "              'precipitation_hours': precipitation_hours,\n",
        "              'windspeed_10m_max': windspeed_10m_max,\n",
        "              'windgusts_10m_max': windgusts_10m_max,\n",
        "              'winddirection_10m_dominant': winddirection_10m_dominant,\n",
        "              'et0_fao_evapotranspiration': et0_fao_evapotranspiration}, axis=1)\n",
        "\n",
        "data.head(5)"
      ],
      "metadata": {
        "colab": {
          "base_uri": "https://localhost:8080/",
          "height": 357
        },
        "id": "r8Sqy51mufTt",
        "outputId": "84fd018c-66e8-4277-cd5a-0b272c21b893"
      },
      "execution_count": 37,
      "outputs": [
        {
          "output_type": "execute_result",
          "data": {
            "text/plain": [
              "         time  weathercode  temperature_2m_max  temperature_2m_min  \\\n",
              "0  2022-01-01           63                25.8                19.2   \n",
              "1  2022-01-02           63                26.3                19.2   \n",
              "2  2022-01-03           63                25.5                20.2   \n",
              "3  2022-01-04           65                26.9                20.7   \n",
              "4  2022-01-05           61                26.4                20.9   \n",
              "\n",
              "   temperature_2m_mean  apparent_temperature_max  apparent_temperature_min  \\\n",
              "0                 22.1                      29.6                      21.8   \n",
              "1                 22.8                      29.6                      21.4   \n",
              "2                 22.7                      28.8                      22.8   \n",
              "3                 23.2                      30.0                      22.9   \n",
              "4                 22.5                      29.4                      21.8   \n",
              "\n",
              "   apparent_temperature_mean           sunrise            sunset  \\\n",
              "0                       24.7  2022-01-01T05:22  2022-01-01T18:58   \n",
              "1                       25.4  2022-01-02T05:23  2022-01-02T18:58   \n",
              "2                       25.9  2022-01-03T05:23  2022-01-03T18:58   \n",
              "3                       25.7  2022-01-04T05:24  2022-01-04T18:58   \n",
              "4                       24.1  2022-01-05T05:25  2022-01-05T18:59   \n",
              "\n",
              "   shortwave_radiation_sum  precipitation_sum  rain_sum  snowfall_sum  \\\n",
              "0                    18.28                8.9       8.9           0.0   \n",
              "1                    20.66                7.6       7.6           0.0   \n",
              "2                    16.38               20.5      20.5           0.0   \n",
              "3                    18.44               21.8      21.8           0.0   \n",
              "4                    11.63                9.5       9.5           0.0   \n",
              "\n",
              "   precipitation_hours  windspeed_10m_max  windgusts_10m_max  \\\n",
              "0                 11.0               15.7               39.2   \n",
              "1                  6.0               14.5               33.8   \n",
              "2                 15.0                9.9               24.8   \n",
              "3                 19.0               18.6               48.2   \n",
              "4                 21.0               26.9               43.2   \n",
              "\n",
              "   winddirection_10m_dominant  et0_fao_evapotranspiration  \n",
              "0                           4                        3.60  \n",
              "1                         105                        3.92  \n",
              "2                          38                        3.18  \n",
              "3                          98                        3.63  \n",
              "4                         127                        2.28  "
            ],
            "text/html": [
              "\n",
              "  <div id=\"df-64649dc2-2477-464c-b0ef-10b4a70d4a35\">\n",
              "    <div class=\"colab-df-container\">\n",
              "      <div>\n",
              "<style scoped>\n",
              "    .dataframe tbody tr th:only-of-type {\n",
              "        vertical-align: middle;\n",
              "    }\n",
              "\n",
              "    .dataframe tbody tr th {\n",
              "        vertical-align: top;\n",
              "    }\n",
              "\n",
              "    .dataframe thead th {\n",
              "        text-align: right;\n",
              "    }\n",
              "</style>\n",
              "<table border=\"1\" class=\"dataframe\">\n",
              "  <thead>\n",
              "    <tr style=\"text-align: right;\">\n",
              "      <th></th>\n",
              "      <th>time</th>\n",
              "      <th>weathercode</th>\n",
              "      <th>temperature_2m_max</th>\n",
              "      <th>temperature_2m_min</th>\n",
              "      <th>temperature_2m_mean</th>\n",
              "      <th>apparent_temperature_max</th>\n",
              "      <th>apparent_temperature_min</th>\n",
              "      <th>apparent_temperature_mean</th>\n",
              "      <th>sunrise</th>\n",
              "      <th>sunset</th>\n",
              "      <th>shortwave_radiation_sum</th>\n",
              "      <th>precipitation_sum</th>\n",
              "      <th>rain_sum</th>\n",
              "      <th>snowfall_sum</th>\n",
              "      <th>precipitation_hours</th>\n",
              "      <th>windspeed_10m_max</th>\n",
              "      <th>windgusts_10m_max</th>\n",
              "      <th>winddirection_10m_dominant</th>\n",
              "      <th>et0_fao_evapotranspiration</th>\n",
              "    </tr>\n",
              "  </thead>\n",
              "  <tbody>\n",
              "    <tr>\n",
              "      <th>0</th>\n",
              "      <td>2022-01-01</td>\n",
              "      <td>63</td>\n",
              "      <td>25.8</td>\n",
              "      <td>19.2</td>\n",
              "      <td>22.1</td>\n",
              "      <td>29.6</td>\n",
              "      <td>21.8</td>\n",
              "      <td>24.7</td>\n",
              "      <td>2022-01-01T05:22</td>\n",
              "      <td>2022-01-01T18:58</td>\n",
              "      <td>18.28</td>\n",
              "      <td>8.9</td>\n",
              "      <td>8.9</td>\n",
              "      <td>0.0</td>\n",
              "      <td>11.0</td>\n",
              "      <td>15.7</td>\n",
              "      <td>39.2</td>\n",
              "      <td>4</td>\n",
              "      <td>3.60</td>\n",
              "    </tr>\n",
              "    <tr>\n",
              "      <th>1</th>\n",
              "      <td>2022-01-02</td>\n",
              "      <td>63</td>\n",
              "      <td>26.3</td>\n",
              "      <td>19.2</td>\n",
              "      <td>22.8</td>\n",
              "      <td>29.6</td>\n",
              "      <td>21.4</td>\n",
              "      <td>25.4</td>\n",
              "      <td>2022-01-02T05:23</td>\n",
              "      <td>2022-01-02T18:58</td>\n",
              "      <td>20.66</td>\n",
              "      <td>7.6</td>\n",
              "      <td>7.6</td>\n",
              "      <td>0.0</td>\n",
              "      <td>6.0</td>\n",
              "      <td>14.5</td>\n",
              "      <td>33.8</td>\n",
              "      <td>105</td>\n",
              "      <td>3.92</td>\n",
              "    </tr>\n",
              "    <tr>\n",
              "      <th>2</th>\n",
              "      <td>2022-01-03</td>\n",
              "      <td>63</td>\n",
              "      <td>25.5</td>\n",
              "      <td>20.2</td>\n",
              "      <td>22.7</td>\n",
              "      <td>28.8</td>\n",
              "      <td>22.8</td>\n",
              "      <td>25.9</td>\n",
              "      <td>2022-01-03T05:23</td>\n",
              "      <td>2022-01-03T18:58</td>\n",
              "      <td>16.38</td>\n",
              "      <td>20.5</td>\n",
              "      <td>20.5</td>\n",
              "      <td>0.0</td>\n",
              "      <td>15.0</td>\n",
              "      <td>9.9</td>\n",
              "      <td>24.8</td>\n",
              "      <td>38</td>\n",
              "      <td>3.18</td>\n",
              "    </tr>\n",
              "    <tr>\n",
              "      <th>3</th>\n",
              "      <td>2022-01-04</td>\n",
              "      <td>65</td>\n",
              "      <td>26.9</td>\n",
              "      <td>20.7</td>\n",
              "      <td>23.2</td>\n",
              "      <td>30.0</td>\n",
              "      <td>22.9</td>\n",
              "      <td>25.7</td>\n",
              "      <td>2022-01-04T05:24</td>\n",
              "      <td>2022-01-04T18:58</td>\n",
              "      <td>18.44</td>\n",
              "      <td>21.8</td>\n",
              "      <td>21.8</td>\n",
              "      <td>0.0</td>\n",
              "      <td>19.0</td>\n",
              "      <td>18.6</td>\n",
              "      <td>48.2</td>\n",
              "      <td>98</td>\n",
              "      <td>3.63</td>\n",
              "    </tr>\n",
              "    <tr>\n",
              "      <th>4</th>\n",
              "      <td>2022-01-05</td>\n",
              "      <td>61</td>\n",
              "      <td>26.4</td>\n",
              "      <td>20.9</td>\n",
              "      <td>22.5</td>\n",
              "      <td>29.4</td>\n",
              "      <td>21.8</td>\n",
              "      <td>24.1</td>\n",
              "      <td>2022-01-05T05:25</td>\n",
              "      <td>2022-01-05T18:59</td>\n",
              "      <td>11.63</td>\n",
              "      <td>9.5</td>\n",
              "      <td>9.5</td>\n",
              "      <td>0.0</td>\n",
              "      <td>21.0</td>\n",
              "      <td>26.9</td>\n",
              "      <td>43.2</td>\n",
              "      <td>127</td>\n",
              "      <td>2.28</td>\n",
              "    </tr>\n",
              "  </tbody>\n",
              "</table>\n",
              "</div>\n",
              "      <button class=\"colab-df-convert\" onclick=\"convertToInteractive('df-64649dc2-2477-464c-b0ef-10b4a70d4a35')\"\n",
              "              title=\"Convert this dataframe to an interactive table.\"\n",
              "              style=\"display:none;\">\n",
              "        \n",
              "  <svg xmlns=\"http://www.w3.org/2000/svg\" height=\"24px\"viewBox=\"0 0 24 24\"\n",
              "       width=\"24px\">\n",
              "    <path d=\"M0 0h24v24H0V0z\" fill=\"none\"/>\n",
              "    <path d=\"M18.56 5.44l.94 2.06.94-2.06 2.06-.94-2.06-.94-.94-2.06-.94 2.06-2.06.94zm-11 1L8.5 8.5l.94-2.06 2.06-.94-2.06-.94L8.5 2.5l-.94 2.06-2.06.94zm10 10l.94 2.06.94-2.06 2.06-.94-2.06-.94-.94-2.06-.94 2.06-2.06.94z\"/><path d=\"M17.41 7.96l-1.37-1.37c-.4-.4-.92-.59-1.43-.59-.52 0-1.04.2-1.43.59L10.3 9.45l-7.72 7.72c-.78.78-.78 2.05 0 2.83L4 21.41c.39.39.9.59 1.41.59.51 0 1.02-.2 1.41-.59l7.78-7.78 2.81-2.81c.8-.78.8-2.07 0-2.86zM5.41 20L4 18.59l7.72-7.72 1.47 1.35L5.41 20z\"/>\n",
              "  </svg>\n",
              "      </button>\n",
              "      \n",
              "  <style>\n",
              "    .colab-df-container {\n",
              "      display:flex;\n",
              "      flex-wrap:wrap;\n",
              "      gap: 12px;\n",
              "    }\n",
              "\n",
              "    .colab-df-convert {\n",
              "      background-color: #E8F0FE;\n",
              "      border: none;\n",
              "      border-radius: 50%;\n",
              "      cursor: pointer;\n",
              "      display: none;\n",
              "      fill: #1967D2;\n",
              "      height: 32px;\n",
              "      padding: 0 0 0 0;\n",
              "      width: 32px;\n",
              "    }\n",
              "\n",
              "    .colab-df-convert:hover {\n",
              "      background-color: #E2EBFA;\n",
              "      box-shadow: 0px 1px 2px rgba(60, 64, 67, 0.3), 0px 1px 3px 1px rgba(60, 64, 67, 0.15);\n",
              "      fill: #174EA6;\n",
              "    }\n",
              "\n",
              "    [theme=dark] .colab-df-convert {\n",
              "      background-color: #3B4455;\n",
              "      fill: #D2E3FC;\n",
              "    }\n",
              "\n",
              "    [theme=dark] .colab-df-convert:hover {\n",
              "      background-color: #434B5C;\n",
              "      box-shadow: 0px 1px 3px 1px rgba(0, 0, 0, 0.15);\n",
              "      filter: drop-shadow(0px 1px 2px rgba(0, 0, 0, 0.3));\n",
              "      fill: #FFFFFF;\n",
              "    }\n",
              "  </style>\n",
              "\n",
              "      <script>\n",
              "        const buttonEl =\n",
              "          document.querySelector('#df-64649dc2-2477-464c-b0ef-10b4a70d4a35 button.colab-df-convert');\n",
              "        buttonEl.style.display =\n",
              "          google.colab.kernel.accessAllowed ? 'block' : 'none';\n",
              "\n",
              "        async function convertToInteractive(key) {\n",
              "          const element = document.querySelector('#df-64649dc2-2477-464c-b0ef-10b4a70d4a35');\n",
              "          const dataTable =\n",
              "            await google.colab.kernel.invokeFunction('convertToInteractive',\n",
              "                                                     [key], {});\n",
              "          if (!dataTable) return;\n",
              "\n",
              "          const docLinkHtml = 'Like what you see? Visit the ' +\n",
              "            '<a target=\"_blank\" href=https://colab.research.google.com/notebooks/data_table.ipynb>data table notebook</a>'\n",
              "            + ' to learn more about interactive tables.';\n",
              "          element.innerHTML = '';\n",
              "          dataTable['output_type'] = 'display_data';\n",
              "          await google.colab.output.renderOutput(dataTable, element);\n",
              "          const docLink = document.createElement('div');\n",
              "          docLink.innerHTML = docLinkHtml;\n",
              "          element.appendChild(docLink);\n",
              "        }\n",
              "      </script>\n",
              "    </div>\n",
              "  </div>\n",
              "  "
            ]
          },
          "metadata": {},
          "execution_count": 37
        }
      ]
    },
    {
      "cell_type": "markdown",
      "source": [
        "<p>Utilização do método ols para definir o modelo de regressão linear múltipla, onde teremos: y = a0 + b1x1 + ... + bNxN, onde: y, representa a variável dependente, nesse caso a temperatura média prevista; a0, representa o intercepto; bN, o coeficiente da variável independente; xN, representa a variável independente</p>"
      ],
      "metadata": {
        "id": "qfT_bHf_yRNy"
      }
    },
    {
      "cell_type": "code",
      "source": [
        "model = sm.ols(formula='temperature_2m_mean ~ weathercode + temperature_2m_max + temperature_2m_min + apparent_temperature_max + apparent_temperature_min + apparent_temperature_mean + shortwave_radiation_sum + precipitation_sum + rain_sum + snowfall_sum + precipitation_hours + windspeed_10m_max + windgusts_10m_max + winddirection_10m_dominant + et0_fao_evapotranspiration', data = data)"
      ],
      "metadata": {
        "id": "2vlc3MxdYrRv"
      },
      "execution_count": 38,
      "outputs": []
    },
    {
      "cell_type": "markdown",
      "source": [
        "<p>Aplicação do método fit para realizar os ajustes dos parâmetros do modelo</p>"
      ],
      "metadata": {
        "id": "GiwrLiiHytK0"
      }
    },
    {
      "cell_type": "code",
      "source": [
        "model = model.fit()"
      ],
      "metadata": {
        "id": "dvPGMFf7ZE4y"
      },
      "execution_count": 39,
      "outputs": []
    },
    {
      "cell_type": "markdown",
      "source": [
        "<p>Apresentação dos resultados do modelo</p>"
      ],
      "metadata": {
        "id": "F1odj2vVy9LN"
      }
    },
    {
      "cell_type": "code",
      "source": [
        "print(model.summary())"
      ],
      "metadata": {
        "colab": {
          "base_uri": "https://localhost:8080/"
        },
        "id": "sm3vpqRoZMsB",
        "outputId": "11f7f3b5-2098-45c8-bed1-d57077c2f035"
      },
      "execution_count": 40,
      "outputs": [
        {
          "output_type": "stream",
          "name": "stdout",
          "text": [
            "                             OLS Regression Results                            \n",
            "===============================================================================\n",
            "Dep. Variable:     temperature_2m_mean   R-squared:                       0.997\n",
            "Model:                             OLS   Adj. R-squared:                  0.997\n",
            "Method:                  Least Squares   F-statistic:                 1.037e+04\n",
            "Date:                 Fri, 14 Apr 2023   Prob (F-statistic):               0.00\n",
            "Time:                         22:15:17   Log-Likelihood:                 137.56\n",
            "No. Observations:                  365   AIC:                            -247.1\n",
            "Df Residuals:                      351   BIC:                            -192.5\n",
            "Df Model:                           13                                         \n",
            "Covariance Type:             nonrobust                                         \n",
            "==============================================================================================\n",
            "                                 coef    std err          t      P>|t|      [0.025      0.975]\n",
            "----------------------------------------------------------------------------------------------\n",
            "Intercept                      2.1279      0.175     12.166      0.000       1.784       2.472\n",
            "weathercode                   -0.0015      0.001     -2.593      0.010      -0.003      -0.000\n",
            "temperature_2m_max             0.2221      0.014     16.388      0.000       0.195       0.249\n",
            "temperature_2m_min             0.3486      0.022     15.497      0.000       0.304       0.393\n",
            "apparent_temperature_max      -0.1554      0.011    -14.126      0.000      -0.177      -0.134\n",
            "apparent_temperature_min      -0.2353      0.018    -13.191      0.000      -0.270      -0.200\n",
            "apparent_temperature_mean      0.6621      0.017     38.281      0.000       0.628       0.696\n",
            "shortwave_radiation_sum       -0.0563      0.008     -7.409      0.000      -0.071      -0.041\n",
            "precipitation_sum             -0.0015      0.001     -1.493      0.136      -0.003       0.000\n",
            "rain_sum                      -0.0015      0.001     -1.493      0.136      -0.003       0.000\n",
            "snowfall_sum               -3.522e-16   1.24e-17    -28.401      0.000   -3.77e-16   -3.28e-16\n",
            "precipitation_hours            0.0029      0.003      0.921      0.358      -0.003       0.009\n",
            "windspeed_10m_max              0.0185      0.006      3.358      0.001       0.008       0.029\n",
            "windgusts_10m_max              0.0036      0.003      1.303      0.194      -0.002       0.009\n",
            "winddirection_10m_dominant  2.521e-05      0.000      0.246      0.806      -0.000       0.000\n",
            "et0_fao_evapotranspiration     0.4250      0.044      9.571      0.000       0.338       0.512\n",
            "==============================================================================\n",
            "Omnibus:                        1.867   Durbin-Watson:                   1.610\n",
            "Prob(Omnibus):                  0.393   Jarque-Bera (JB):                1.741\n",
            "Skew:                           0.168   Prob(JB):                        0.419\n",
            "Kurtosis:                       3.032   Cond. No.                     1.01e+19\n",
            "==============================================================================\n",
            "\n",
            "Notes:\n",
            "[1] Standard Errors assume that the covariance matrix of the errors is correctly specified.\n",
            "[2] The smallest eigenvalue is 2.26e-31. This might indicate that there are\n",
            "strong multicollinearity problems or that the design matrix is singular.\n"
          ]
        }
      ]
    },
    {
      "cell_type": "markdown",
      "source": [
        "<p>O valor do r-squared é alto, o que nos mostra que os dados podem ser representados por uma função linear, ou seja, o modelo de regressão linear múltipla poderá ser usado para prever os valores</p> \n",
        "<p>Os p-values são baixos, o que indica que as variáveis independentes (xN) influenciam fortemente o valor da variável dependente (y), dessa forma, manteremos as variáveis independentes que possuem p-value <= 0.05</p>\n",
        "<p>Para otimizar o modelo, além de filtrar os p-values <= 0.05, iremos selecionar apenas as variáveis que se aplicam ao clima de São Paulo, desse modo, iremos retirar informações atreladas a neve, por exemplo</p>"
      ],
      "metadata": {
        "id": "bxryWZ1FtUv2"
      }
    },
    {
      "cell_type": "code",
      "source": [
        "model = sm.ols(formula='temperature_2m_mean ~ weathercode + temperature_2m_max + temperature_2m_min + apparent_temperature_max + apparent_temperature_min + apparent_temperature_mean + shortwave_radiation_sum + windspeed_10m_max + et0_fao_evapotranspiration', data = data)"
      ],
      "metadata": {
        "id": "a41KL9ZfdUFi"
      },
      "execution_count": 41,
      "outputs": []
    },
    {
      "cell_type": "markdown",
      "source": [
        "<p>Aplicação do método fit para realizar os ajustes dos parâmetros do modelo</p>"
      ],
      "metadata": {
        "id": "mr1PsOY5vVDg"
      }
    },
    {
      "cell_type": "code",
      "source": [
        "model = model.fit()"
      ],
      "metadata": {
        "id": "x5qKN4l_Z27A"
      },
      "execution_count": 42,
      "outputs": []
    },
    {
      "cell_type": "markdown",
      "source": [
        "<p>Apresentando os resultados do novo modelo para serem analisados</p>"
      ],
      "metadata": {
        "id": "I3nsDEeZvfyy"
      }
    },
    {
      "cell_type": "code",
      "source": [
        "print(model.summary())"
      ],
      "metadata": {
        "colab": {
          "base_uri": "https://localhost:8080/"
        },
        "id": "24FqDbQiZ4-o",
        "outputId": "0922abb3-0e23-459b-9508-f48f9903c8a3"
      },
      "execution_count": 43,
      "outputs": [
        {
          "output_type": "stream",
          "name": "stdout",
          "text": [
            "                             OLS Regression Results                            \n",
            "===============================================================================\n",
            "Dep. Variable:     temperature_2m_mean   R-squared:                       0.997\n",
            "Model:                             OLS   Adj. R-squared:                  0.997\n",
            "Method:                  Least Squares   F-statistic:                 1.498e+04\n",
            "Date:                 Fri, 14 Apr 2023   Prob (F-statistic):               0.00\n",
            "Time:                         22:15:17   Log-Likelihood:                 135.51\n",
            "No. Observations:                  365   AIC:                            -251.0\n",
            "Df Residuals:                      355   BIC:                            -212.0\n",
            "Df Model:                            9                                         \n",
            "Covariance Type:             nonrobust                                         \n",
            "==============================================================================================\n",
            "                                 coef    std err          t      P>|t|      [0.025      0.975]\n",
            "----------------------------------------------------------------------------------------------\n",
            "Intercept                      2.1661      0.158     13.719      0.000       1.856       2.477\n",
            "weathercode                   -0.0012      0.001     -2.453      0.015      -0.002      -0.000\n",
            "temperature_2m_max             0.2223      0.012     18.217      0.000       0.198       0.246\n",
            "temperature_2m_min             0.3495      0.022     15.579      0.000       0.305       0.394\n",
            "apparent_temperature_max      -0.1560      0.010    -15.491      0.000      -0.176      -0.136\n",
            "apparent_temperature_min      -0.2335      0.017    -13.348      0.000      -0.268      -0.199\n",
            "apparent_temperature_mean      0.6591      0.017     39.920      0.000       0.627       0.692\n",
            "shortwave_radiation_sum       -0.0562      0.008     -7.475      0.000      -0.071      -0.041\n",
            "windspeed_10m_max              0.0251      0.003      8.493      0.000       0.019       0.031\n",
            "et0_fao_evapotranspiration     0.4257      0.044      9.732      0.000       0.340       0.512\n",
            "==============================================================================\n",
            "Omnibus:                        2.328   Durbin-Watson:                   1.609\n",
            "Prob(Omnibus):                  0.312   Jarque-Bera (JB):                2.130\n",
            "Skew:                           0.182   Prob(JB):                        0.345\n",
            "Kurtosis:                       3.085   Cond. No.                     1.22e+03\n",
            "==============================================================================\n",
            "\n",
            "Notes:\n",
            "[1] Standard Errors assume that the covariance matrix of the errors is correctly specified.\n",
            "[2] The condition number is large, 1.22e+03. This might indicate that there are\n",
            "strong multicollinearity or other numerical problems.\n"
          ]
        }
      ]
    },
    {
      "cell_type": "markdown",
      "source": [
        "<p>Com o segundo treinamento realizado, mantemos apenas as variáveis independentes (x) que de fato geram influencia no valor da variável dependente (y)</p>\n",
        "<p>Além disso, notamos que o R-squared do modelo não sofreu nenhuma alteração, o que nos mostra que o conjunto de dados ainda pode ser fortemente explicado por uma função linear, nesse caso:</p>\n",
        "<p>temperatura_estimada = 2.1661 + -0.0012*weathercode + 0.2223*temperature_2m_max + 0.3495*temperature_2m_min + -0.1560*apparent_temperature_max + -0.2335*apparent_temperature_min + 0.6591*apparent_temperature_mean + -0.0562*shortwave_radiation_sum + 0.0251*windspeed_10m_max + 0.4257*et0_fao_evapotranspiration</p>"
      ],
      "metadata": {
        "id": "rPjVypumvxec"
      }
    },
    {
      "cell_type": "markdown",
      "source": [
        "<p>Com o segundo treinamento, é necessário buscar os valores das variáveis independentes (x), dessa forma, utilizaremos o módulo requests para consultar os dados via APAI que serão previstos</p>"
      ],
      "metadata": {
        "id": "KQpVKoAuxX1u"
      }
    },
    {
      "cell_type": "code",
      "source": [
        "response = requests.get(\"https://archive-api.open-meteo.com/v1/archive?latitude=-23.55&longitude=-46.64&start_date=2023-01-01&end_date=2023-01-07&daily=weathercode,temperature_2m_max,temperature_2m_min,temperature_2m_mean,apparent_temperature_max,apparent_temperature_min,apparent_temperature_mean,sunrise,sunset,shortwave_radiation_sum,precipitation_sum,rain_sum,snowfall_sum,precipitation_hours,windspeed_10m_max,windgusts_10m_max,winddirection_10m_dominant,et0_fao_evapotranspiration&timezone=America%2FSao_Paulo\")\n",
        "response = response.text"
      ],
      "metadata": {
        "id": "v_pu0xyuiCte"
      },
      "execution_count": 44,
      "outputs": []
    },
    {
      "cell_type": "markdown",
      "source": [
        "<p>Realizando a leitura dos dados com o método read_json e visualizando as colunas da base de dados</p>"
      ],
      "metadata": {
        "id": "SaDa9ln2xkzN"
      }
    },
    {
      "cell_type": "code",
      "source": [
        "source = pd.read_json(response)\n",
        "source.index"
      ],
      "metadata": {
        "colab": {
          "base_uri": "https://localhost:8080/"
        },
        "id": "KRh4_2coxmBM",
        "outputId": "cdda6f34-b3df-46f1-c454-1f63b2617f04"
      },
      "execution_count": 45,
      "outputs": [
        {
          "output_type": "execute_result",
          "data": {
            "text/plain": [
              "Index(['time', 'weathercode', 'temperature_2m_max', 'temperature_2m_min',\n",
              "       'temperature_2m_mean', 'apparent_temperature_max',\n",
              "       'apparent_temperature_min', 'apparent_temperature_mean', 'sunrise',\n",
              "       'sunset', 'shortwave_radiation_sum', 'precipitation_sum', 'rain_sum',\n",
              "       'snowfall_sum', 'precipitation_hours', 'windspeed_10m_max',\n",
              "       'windgusts_10m_max', 'winddirection_10m_dominant',\n",
              "       'et0_fao_evapotranspiration'],\n",
              "      dtype='object')"
            ]
          },
          "metadata": {},
          "execution_count": 45
        }
      ]
    },
    {
      "cell_type": "markdown",
      "source": [
        "<p>Aplicando a função linear para prever as temperaturas médias (y) do período 01/01/2023 à 07/01/2023. Para isso criamos uma lista, capturamos os valores das variáveis independentes e aplicamos a função linear. Por fim, salvamos os as predições em uma lista para comparar com a lista de dados reais</p>"
      ],
      "metadata": {
        "id": "F8zae7UxzobC"
      }
    },
    {
      "cell_type": "code",
      "source": [
        "temperaturas_estimadas = list()\n",
        "\n",
        "for i in range(0,7):\n",
        "  weathercode = source['daily']['weathercode'][i]\n",
        "  temperature_2m_max = source['daily']['temperature_2m_max'][i]\n",
        "  temperature_2m_min = source['daily']['temperature_2m_min'][i]\n",
        "  apparent_temperature_max = source['daily']['apparent_temperature_max'][i]\n",
        "  apparent_temperature_min = source['daily']['apparent_temperature_min'][i]\n",
        "  apparent_temperature_mean = source['daily']['apparent_temperature_mean'][i]\n",
        "  shortwave_radiation_sum = source['daily']['shortwave_radiation_sum'][i]\n",
        "  windspeed_10m_max = source['daily']['windspeed_10m_max'][i]\n",
        "  et0_fao_evapotranspiration = source['daily']['et0_fao_evapotranspiration'][i]\n",
        "\n",
        "  temperatura_estimada = 2.1661 + -0.0012*weathercode + 0.2223*temperature_2m_max + 0.3495*temperature_2m_min + -0.1560*apparent_temperature_max + -0.2335*apparent_temperature_min + 0.6591*apparent_temperature_mean + -0.0562*shortwave_radiation_sum + 0.0251*windspeed_10m_max + 0.4257*et0_fao_evapotranspiration\n",
        "  \n",
        "  temperaturas_estimadas.append(round(temperatura_estimada,2))"
      ],
      "metadata": {
        "id": "UZ2sY_YWzp1I"
      },
      "execution_count": 46,
      "outputs": []
    },
    {
      "cell_type": "markdown",
      "source": [
        "<p>Apresentação dos dados previstos pela função linear para o período de 01/01/2023 à 07/01/2023</p>"
      ],
      "metadata": {
        "id": "kuFjikNg0r57"
      }
    },
    {
      "cell_type": "code",
      "source": [
        "print(f'Temperaturas médias estimadas pelo modelo {temperaturas_estimadas}')"
      ],
      "metadata": {
        "colab": {
          "base_uri": "https://localhost:8080/"
        },
        "id": "GTqWNykRazG1",
        "outputId": "c46de346-8628-46ec-dd4d-efa41717cb0d"
      },
      "execution_count": 47,
      "outputs": [
        {
          "output_type": "stream",
          "name": "stdout",
          "text": [
            "Temperaturas médias estimadas pelo modelo [21.52, 22.61, 22.62, 20.63, 17.32, 17.49, 17.37]\n"
          ]
        }
      ]
    },
    {
      "cell_type": "markdown",
      "source": [
        "<p>Apresentação dos dados capturados via API para o período de 01/01/2023 à 07/01/2023</p>"
      ],
      "metadata": {
        "id": "hqL5O4GG0yn9"
      }
    },
    {
      "cell_type": "code",
      "source": [
        "temperaturas_reais = source[\"daily\"][\"temperature_2m_mean\"]\n",
        "print(f'Temperaturas médias reais {temperaturas_reais}')"
      ],
      "metadata": {
        "colab": {
          "base_uri": "https://localhost:8080/"
        },
        "id": "IGxkjXPl06d1",
        "outputId": "191c3d72-d764-4f29-e40f-0aff375ede32"
      },
      "execution_count": 48,
      "outputs": [
        {
          "output_type": "stream",
          "name": "stdout",
          "text": [
            "Temperaturas médias reais [21.7, 22.7, 22.7, 20.7, 17.3, 17.7, 17.5]\n"
          ]
        }
      ]
    },
    {
      "cell_type": "markdown",
      "source": [
        "<p>Comparando a temperatura média prevista e a temperatura média real para o período de 01/01/2023 à 07/01/2023</p>"
      ],
      "metadata": {
        "id": "ZPhBUwMf1Drg"
      }
    },
    {
      "cell_type": "code",
      "source": [
        "n = 7\n",
        "\n",
        "largura = 0.1\n",
        "\n",
        "ind = np.arange(n)\n",
        "\n",
        "fig, ax = plt.subplots()\n",
        "barras1 = ax.bar(ind, temperaturas_estimadas, largura, color='r')\n",
        "barras2 = ax.bar(ind + largura, temperaturas_reais, largura, color='b')\n",
        "\n",
        "ax.set_ylabel('Temperatura média em Celsius')\n",
        "ax.set_title('Comparação das temperaturas médias previstas \\n e reais entre os dias 01/01/2023 e 07/01/2023')\n",
        "ax.set_xticks(ind + largura / 2)\n",
        "ax.set_xticklabels(('01/01', '02/01', '03/01', '04/01', '05/01', '06/01', \"07/01\"))\n",
        "ax.legend((barras1[0], barras2[0]), ('Temperatura Prevista', 'Temperatura Real'))\n",
        "\n",
        "for barra in (barras1):\n",
        "    altura = barra.get_height()\n",
        "    plt.annotate(f'{altura:.1f}', xy=(barra.get_x() + barra.get_width() / 2, altura), xytext=(-8, 1),\n",
        "                textcoords=\"offset points\", ha='center', va='bottom', color='r')\n",
        "\n",
        "for barra in (barras2):\n",
        "    altura = barra.get_height()\n",
        "    plt.annotate(f'{altura:.1f}', xy=(barra.get_x() + barra.get_width() / 2, altura), xytext=(10, 1),\n",
        "                textcoords=\"offset points\", ha='center', va='bottom', color='b')\n",
        "\n",
        "plt.show()"
      ],
      "metadata": {
        "colab": {
          "base_uri": "https://localhost:8080/",
          "height": 473
        },
        "id": "HSz2k75qnMHc",
        "outputId": "c1afb46a-1848-41fd-c5e8-06e03e758b46"
      },
      "execution_count": 49,
      "outputs": [
        {
          "output_type": "display_data",
          "data": {
            "text/plain": [
              "<Figure size 640x480 with 1 Axes>"
            ],
            "image/png": "[encoded data removed]"
          },
          "metadata": {}
        }
      ]
    },
    {
      "cell_type": "markdown",
      "source": [
        "<p>Conforme o gráfico apresentado acima, concluímos que o modelo apresenta resultados aceitáveis, pois quando comparamos as temperaturas médias previstas com as temperaturas médias reais, os maiores erros apresentados são de aproximadamente 0.2°C</p>"
      ],
      "metadata": {
        "id": "36WCY9Mo1rmq"
      }
    }
  ]
}
